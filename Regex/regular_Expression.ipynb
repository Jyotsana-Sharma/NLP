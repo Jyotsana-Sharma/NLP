{
 "cells": [
  {
   "cell_type": "markdown",
   "metadata": {},
   "source": [
    "## Pattern\n",
    "We can use search method to find a specific pattern either using regex or by using the exact pattern\n",
    "Identifiers for character in pattern \n",
    "Characters such as digit or string can have different codes that represent them. We can use those to build up the pattern.\n",
    "We write the regex pattern in python code with r'my_pattern' this r (raw string) ensures that it doesn't have to process the \\ (backslashes).\n",
    "for eg : If I do \n",
    "\n",
    "print(\"\\n\") \n",
    "\n",
    "Output : \n",
    "\n",
    "print(r\"\\n\")\n",
    "\n",
    "\\n\n",
    "So in the above case it doesn't process the backslash\n",
    "Identifiers for characters in pattern : \n",
    "\n",
    "| Character | Description | Example Pattern Code | Example Match |\n",
    "| --- | --- | --- | ---|\n",
    "| \\d | A digit | file\\d\\d | file_25 |\n",
    "| \\w | Alphanumeric | \\w-\\w\\w\\w | A-b_1 | \n",
    "| \\s | whitespace | a\\sb\\sc | a b c | \n",
    "| \\D | A non-digit | \\D\\D\\D | ABC | \n",
    "| \\W | Non-Alphanumeric | \\W\\W\\W\\W\\W | *-+=) |\n",
    "| \\S | Non-Whitespace | \\S\\S\\S\\S | YoYo | "
   ]
  },
  {
   "cell_type": "code",
   "execution_count": 1,
   "metadata": {},
   "outputs": [
    {
     "name": "stdout",
     "output_type": "stream",
     "text": [
      " Searched pattern for the given input text : (4, 9)\n",
      "First/Starting index of the searched pattern text : 4\n",
      "Ending index of searched pattern text : 9\n"
     ]
    }
   ],
   "source": [
    "import re \n",
    "text = \"The phone number of the agent is 987-345-9823.Call soon!\"\n",
    "\n",
    "pattern = \"phone\"\n",
    "\n",
    "\n",
    "re.search(pattern,text)\n",
    "#Searches for the pattern in the given text input and then returns the start index and end index of that text\n",
    "my_match = re.search(pattern,text)\n",
    "print(f' Searched pattern for the given input text : {my_match.span()}')\n",
    "#Starting index of the searched pattern text\n",
    "print(f'First/Starting index of the searched pattern text : {my_match.start()}')\n",
    "\n",
    "#Ending index of the searched pattern text \n",
    "print(f'Ending index of searched pattern text : {my_match.end()}')\n"
   ]
  },
  {
   "cell_type": "code",
   "execution_count": 2,
   "metadata": {},
   "outputs": [
    {
     "data": {
      "text/plain": [
       "<re.Match object; span=(3, 8), match='phone'>"
      ]
     },
     "execution_count": 2,
     "metadata": {},
     "output_type": "execute_result"
    }
   ],
   "source": [
    "#there are two occurrences of phone in the below text but the re.search will return only the first occurrence of the text\n",
    "text = \"My phone is a new phone\"\n",
    "pattern = \"phone\"\n",
    "my_match = re.search(pattern, text)\n",
    "my_match"
   ]
  },
  {
   "cell_type": "code",
   "execution_count": 7,
   "metadata": {},
   "outputs": [
    {
     "data": {
      "text/plain": [
       "['phone', 'phone']"
      ]
     },
     "execution_count": 7,
     "metadata": {},
     "output_type": "execute_result"
    }
   ],
   "source": [
    "#what if we want to search for all of the occurrence of the given pattern in the input text \n",
    "all_matches = re.findall(pattern,text)\n",
    "all_matches"
   ]
  },
  {
   "cell_type": "code",
   "execution_count": 12,
   "metadata": {},
   "outputs": [
    {
     "name": "stdout",
     "output_type": "stream",
     "text": [
      "(3, 8)\n",
      "(18, 23)\n"
     ]
    }
   ],
   "source": [
    "#Return all the occurrences of the searched pattern with their indexes\n",
    "indexes = re.finditer(pattern,text)\n",
    "for match in indexes:\n",
    "    print(match.span())"
   ]
  },
  {
   "cell_type": "code",
   "execution_count": 19,
   "metadata": {},
   "outputs": [
    {
     "name": "stdout",
     "output_type": "stream",
     "text": [
      "Pattern searched : <re.Match object; span=(19, 31), match='889-989-9837'>\n",
      "match_obj: 889-989-9837\n"
     ]
    }
   ],
   "source": [
    "text = \"My phone number is 889-989-9837\"\n",
    "pattern = r'(\\d\\d\\d)-(\\d\\d\\d)-(\\d\\d\\d\\d)'\n",
    "match_obj = re.search(pattern,text)\n",
    "print(f\"Pattern searched : {match_obj}\")\n",
    "#match_obj  group by will return the matched pattern if 0 passes which is the default value then would return the complete matched string if passed with 1 then would return the first matched pattern of the regex\n",
    "print(f\"match_obj: {match_obj.group(0)}\")"
   ]
  },
  {
   "cell_type": "markdown",
   "metadata": {},
   "source": [
    "## Quantifiers\n",
    "\n",
    "| Character | Description | Example Pattern Code | Example Match Code |\n",
    "| -----| ----- | ----- | ----- |\n",
    "| + | Occurrs one or more time | Version \\w-\\w+ | Version A-B_1 |\n",
    "| {3} | Occurrs exactly 3 times | \\D{3} | abc | \n",
    "| {2,4} | Occurrs 2 to 4 times | \\d{2,4} | 123 | \n",
    "| {3,} | Occurrs 3 or more times | \\w{3,} | anycharacters |\n",
    "| * | Occurrs zero or more times | A*B*C | AABBC |\n",
    "| ? | Occurrs once or none | plural? | plurals | "
   ]
  },
  {
   "cell_type": "code",
   "execution_count": 22,
   "metadata": {},
   "outputs": [
    {
     "name": "stdout",
     "output_type": "stream",
     "text": [
      "Pattern searched : <re.Match object; span=(19, 31), match='889-989-9837'>\n"
     ]
    }
   ],
   "source": [
    "# Lets rewrite the pattern \n",
    "text = \"My phone number is 889-989-9837\"\n",
    "pattern = r'(\\d{3})-(\\d{3})-(\\d{4})'\n",
    "match_obj = re.search(pattern,text)\n",
    "print(f\"Pattern searched : {match_obj}\")"
   ]
  },
  {
   "cell_type": "code",
   "execution_count": null,
   "metadata": {},
   "outputs": [],
   "source": []
  }
 ],
 "metadata": {
  "kernelspec": {
   "display_name": "Python 3",
   "language": "python",
   "name": "python3"
  },
  "language_info": {
   "codemirror_mode": {
    "name": "ipython",
    "version": 3
   },
   "file_extension": ".py",
   "mimetype": "text/x-python",
   "name": "python",
   "nbconvert_exporter": "python",
   "pygments_lexer": "ipython3",
   "version": "3.12.2"
  }
 },
 "nbformat": 4,
 "nbformat_minor": 2
}
